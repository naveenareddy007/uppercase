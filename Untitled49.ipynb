{
 "cells": [
  {
   "cell_type": "code",
   "execution_count": 1,
   "id": "aaa3eaa9",
   "metadata": {},
   "outputs": [
    {
     "name": "stdout",
     "output_type": "stream",
     "text": [
      "Original String :  The quick Brow Fox\n",
      "No.of Upper case characters : 1\n",
      "No.of Lower case characters : 0\n",
      "Original String :  The quick Brow Fox\n",
      "No.of Upper case characters : 1\n",
      "No.of Lower case characters : 1\n",
      "Original String :  The quick Brow Fox\n",
      "No.of Upper case characters : 1\n",
      "No.of Lower case characters : 2\n",
      "Original String :  The quick Brow Fox\n",
      "No.of Upper case characters : 1\n",
      "No.of Lower case characters : 2\n",
      "Original String :  The quick Brow Fox\n",
      "No.of Upper case characters : 1\n",
      "No.of Lower case characters : 3\n",
      "Original String :  The quick Brow Fox\n",
      "No.of Upper case characters : 1\n",
      "No.of Lower case characters : 4\n",
      "Original String :  The quick Brow Fox\n",
      "No.of Upper case characters : 1\n",
      "No.of Lower case characters : 5\n",
      "Original String :  The quick Brow Fox\n",
      "No.of Upper case characters : 1\n",
      "No.of Lower case characters : 6\n",
      "Original String :  The quick Brow Fox\n",
      "No.of Upper case characters : 1\n",
      "No.of Lower case characters : 7\n",
      "Original String :  The quick Brow Fox\n",
      "No.of Upper case characters : 1\n",
      "No.of Lower case characters : 7\n",
      "Original String :  The quick Brow Fox\n",
      "No.of Upper case characters : 2\n",
      "No.of Lower case characters : 7\n",
      "Original String :  The quick Brow Fox\n",
      "No.of Upper case characters : 2\n",
      "No.of Lower case characters : 8\n",
      "Original String :  The quick Brow Fox\n",
      "No.of Upper case characters : 2\n",
      "No.of Lower case characters : 9\n",
      "Original String :  The quick Brow Fox\n",
      "No.of Upper case characters : 2\n",
      "No.of Lower case characters : 10\n",
      "Original String :  The quick Brow Fox\n",
      "No.of Upper case characters : 2\n",
      "No.of Lower case characters : 10\n",
      "Original String :  The quick Brow Fox\n",
      "No.of Upper case characters : 3\n",
      "No.of Lower case characters : 10\n",
      "Original String :  The quick Brow Fox\n",
      "No.of Upper case characters : 3\n",
      "No.of Lower case characters : 11\n",
      "Original String :  The quick Brow Fox\n",
      "No.of Upper case characters : 3\n",
      "No.of Lower case characters : 12\n"
     ]
    }
   ],
   "source": [
    "def string_test(s):\n",
    "    d={\"UPPER_CASE\":0, \"LOWER_CASE\":0}\n",
    "    for c in s:\n",
    "        if c.isupper():\n",
    "            d[\"UPPER_CASE\"]+=1\n",
    "        elif c.islower():\n",
    "            d[\"LOWER_CASE\"]+=1\n",
    "        else:\n",
    "            pass\n",
    "        print(\"Original String : \", s)\n",
    "        print(\"No.of Upper case characters :\",d[\"UPPER_CASE\"])\n",
    "        print(\"No.of Lower case characters :\",d[\"LOWER_CASE\"])\n",
    "string_test('The quick Brow Fox')        "
   ]
  },
  {
   "cell_type": "code",
   "execution_count": null,
   "id": "1e886112",
   "metadata": {},
   "outputs": [],
   "source": []
  }
 ],
 "metadata": {
  "kernelspec": {
   "display_name": "Python 3 (ipykernel)",
   "language": "python",
   "name": "python3"
  },
  "language_info": {
   "codemirror_mode": {
    "name": "ipython",
    "version": 3
   },
   "file_extension": ".py",
   "mimetype": "text/x-python",
   "name": "python",
   "nbconvert_exporter": "python",
   "pygments_lexer": "ipython3",
   "version": "3.10.9"
  }
 },
 "nbformat": 4,
 "nbformat_minor": 5
}
